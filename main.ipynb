{
 "cells": [
  {
   "cell_type": "code",
   "execution_count": 145,
   "metadata": {},
   "outputs": [],
   "source": [
    "import pandas as pd\n",
    "import numpy as np\n",
    "import re\n",
    "from typing import List, Tuple, Dict, Any, Set, Callable, Hashable"
   ]
  },
  {
   "cell_type": "code",
   "execution_count": 146,
   "metadata": {},
   "outputs": [],
   "source": [
    "column_names = [\n",
    "  # 'rec_id',\n",
    "  'given_name',\n",
    "  'surname',\n",
    "  'street_number',\n",
    "  'address_1',\n",
    "  'address_2',\n",
    "  'suburb',\n",
    "  # 'postcode',\n",
    "  'state',\n",
    "  'date_of_birth',\n",
    "  # 'age',\n",
    "  'phone_number',\n",
    "  # 'soc_sec_id',\n",
    "  # 'blocking_number'\n",
    "]"
   ]
  },
  {
   "cell_type": "code",
   "execution_count": 118,
   "metadata": {},
   "outputs": [],
   "source": [
    "\n",
    "def clean_address(address: str) -> str:\n",
    "    # Список слов и сокращений для удаления\n",
    "    words_to_remove = [\n",
    "        \"улица\", \"ул\\\\. ?\", \"проспект\", \"пр-т\\\\. ?\", \"пр\\\\. ?\", \"бульвар\", \"б-р\\\\. ?\", \"переулок\", \"пер\\\\. ?\", \"набережная\", \"наб\\\\. ?\",\n",
    "        \"шоссе\", \"площадь\", \"пл\\\\. ?\", \"дом\", \"д\\\\. ?\", \"квартира\", \"кв\\\\. ?\", \"корпус\", \"корп\\\\. ?\", \"строение\", \"стр\\\\. ?\", \"область\",\n",
    "        \"обл\\\\. ?\", \"город\", \"г\\\\. ?\", \"поселок\", \"пос\\\\. ?\", \"деревня\", \"дер\\\\. ?\",\n",
    "        \"street\", \"st\\\\. ?\", \"avenue\", \"ave\\\\. ?\", \"boulevard\", \"blvd\\\\. ?\", \"alley\", \"al\\\\. ?\", \"drive\", \"dr\\\\. ?\",\n",
    "        \"square\", \"sq\\\\. ?\", \"house\", \"h\\\\. ?\", \"apartment\", \"apt\\\\. ?\", \"building\", \"bldg\\\\. ?\", \"county\", \"co\\\\. ?\",\n",
    "        \"city\", \"ct\\\\. ?\", \"village\", \"vil\\\\. ?\", \"township\", \"twp\\\\. ?\", \"road\", \"rd\\\\. ?\"\n",
    "    ]\n",
    "\n",
    "    # Создаем регулярное выражение из списка слов и сокращений\n",
    "    pattern = r'\\b(?:{})\\b'.format('|'.join(words_to_remove))\n",
    "\n",
    "    # Заменяем найденные слова и сокращения на пустую строку\n",
    "    cleaned_address = re.sub(pattern, '', address, flags=re.IGNORECASE)\n",
    "\n",
    "    # Удаляем лишние пробелы и возвращаем очищенную строку\n",
    "    return re.sub(r'\\s+', ' ', cleaned_address).strip()"
   ]
  },
  {
   "cell_type": "code",
   "execution_count": 147,
   "metadata": {},
   "outputs": [],
   "source": [
    "def get_key(x: str) -> str:\n",
    "    # Формируем ключ из значений полей\n",
    "    return  '-'.join([x.split('-')[0], x.split('-')[1]])"
   ]
  },
  {
   "cell_type": "code",
   "execution_count": 148,
   "metadata": {},
   "outputs": [],
   "source": [
    "data = pd.read_csv('test.csv')\n",
    "data = data.applymap(lambda x:  x.strip() if isinstance(x, str) else x )\n",
    "# data['address_1'] = data['address_1'].apply(lambda x:  clean_address(x) if isinstance(x, str) else x )\n",
    "# data['address_2'] = data['address_2'].apply(lambda x:  clean_address(x) if isinstance(x, str) else x )\n",
    "# data = data.applymap(lambda x:  clean_address(x) if isinstance(x, str) else x )\n",
    "data = data.replace({np.nan:None})\n",
    "data['rec_common_id'] = data.apply(lambda x: get_key(x['rec_id']), axis=1)\n",
    "data_list = data.to_dict('records')"
   ]
  },
  {
   "cell_type": "code",
   "execution_count": 149,
   "metadata": {},
   "outputs": [],
   "source": [
    "data_by_ids = {}\n",
    "expected_res = {}\n",
    "for record in data_list:\n",
    "    if record['rec_common_id'] not in data_by_ids:\n",
    "        data_by_ids[record['rec_common_id']] = []\n",
    "        expected_res[record['rec_common_id']] = set()\n",
    "    data_by_ids[record['rec_common_id']].append(record)\n",
    "    expected_res[record['rec_common_id']].add(record['rec_id'])"
   ]
  },
  {
   "cell_type": "code",
   "execution_count": 150,
   "metadata": {},
   "outputs": [],
   "source": [
    "from distances.levenshtein import levenstein_similarity"
   ]
  },
  {
   "cell_type": "code",
   "execution_count": 151,
   "metadata": {},
   "outputs": [],
   "source": [
    "def get_lev_sim(a: Dict[Hashable, Any], b: Dict[Hashable, Any]) -> float:\n",
    "  sm = 0\n",
    "  cnt = 0\n",
    "  for k in column_names:\n",
    "    if a[k] is not None and b[k] is not None and isinstance(a[k], str) and a[k] != '' and isinstance(b[k], str) and b[k] != '':\n",
    "      # distance = levenstein_similarity(main_rec[k], td[k])\n",
    "      # max_length = max(len(main_rec[k]), len(td[k]))\n",
    "      sm += levenstein_similarity(a[k], b[k])\n",
    "      cnt += 1\n",
    "  return sm / cnt"
   ]
  },
  {
   "cell_type": "code",
   "execution_count": 152,
   "metadata": {},
   "outputs": [
    {
     "name": "stdout",
     "output_type": "stream",
     "text": [
      "main_rec_id: rec-148-org, td_rec_id: rec-148-dup-2, similarity: 0.9692307692307693\n",
      "main_rec_id: rec-148-org, td_rec_id: rec-148-dup-1, similarity: 0.9446153846153846\n",
      "main_rec_id: rec-148-org, td_rec_id: rec-148-dup-0, similarity: 0.825974025974026\n",
      "main_rec_id: rec-148-org, td_rec_id: rec-100-dup-0, similarity: 0.188997113997114\n"
     ]
    }
   ],
   "source": [
    "test_data = data_by_ids['rec-148']\n",
    "main_rec = test_data[-1]\n",
    "test_data = test_data[:-1]\n",
    "test_data.append(data_by_ids['rec-100'][0])\n",
    "for td in test_data:\n",
    "  sim = get_lev_sim(main_rec, td)\n",
    "  print(f'main_rec_id: {main_rec[\"rec_id\"]}, td_rec_id: {td[\"rec_id\"]}, similarity: {sim}')"
   ]
  },
  {
   "cell_type": "code",
   "execution_count": 153,
   "metadata": {},
   "outputs": [
    {
     "name": "stdout",
     "output_type": "stream",
     "text": [
      "given_name: rebecca\n",
      "surname: rees\n",
      "address_1: belconnen way\n",
      "suburb: kedron\n",
      "phone_number: 07 81960884\n",
      "given_name: rebwcca\n",
      "surname: rees\n",
      "address_1: belconnen way\n",
      "suburb: kedron\n",
      "phone_number: 02 13450400\n"
     ]
    }
   ],
   "source": [
    "for k in column_names:\n",
    "  if main_rec[k] is not None and isinstance(main_rec[k], str):\n",
    "    print(f'{k}: {main_rec[k]}')\n",
    "for k in column_names:\n",
    "  if test_data[2][k] is not None and isinstance(test_data[2][k], str):\n",
    "    print(f'{k}: {test_data[2][k]}')"
   ]
  },
  {
   "cell_type": "code",
   "execution_count": 126,
   "metadata": {},
   "outputs": [],
   "source": [
    "res = []\n",
    "for i in range(len(data_list)):\n",
    "  for j in range(i + 1, len(data_list)):\n",
    "    sim = get_lev_sim(data_list[i], data_list[j])\n",
    "    if sim > 0.85:\n",
    "      res.append((data_list[i]['rec_id'], data_list[j]['rec_id'], sim))"
   ]
  },
  {
   "cell_type": "code",
   "execution_count": 131,
   "metadata": {},
   "outputs": [],
   "source": [
    "tp = 0\n",
    "fp = 0\n",
    "fn = 0"
   ]
  },
  {
   "cell_type": "code",
   "execution_count": 132,
   "metadata": {},
   "outputs": [],
   "source": [
    "res_by_ids = {}\n",
    "for (a_id, b_id, sim) in res:\n",
    "  a_key = get_key(a_id)\n",
    "  b_key = get_key(b_id)\n",
    "  if a_key != b_key:\n",
    "    print(f'ERROR: {a_id}, {b_id}, {sim}')\n",
    "    fp += 1\n",
    "    continue\n",
    "  if a_key not in res_by_ids:\n",
    "    res_by_ids[a_key] = set()\n",
    "  res_by_ids[a_key].add(a_id)\n",
    "  res_by_ids[a_key].add(b_id)"
   ]
  },
  {
   "cell_type": "code",
   "execution_count": 133,
   "metadata": {},
   "outputs": [
    {
     "name": "stdout",
     "output_type": "stream",
     "text": [
      "ERROR: not full rec-128\n",
      "ERROR: not full rec-74\n",
      "ERROR: not full rec-199\n",
      "ERROR: not full rec-167\n",
      "ERROR: not full rec-112\n",
      "ERROR: not full rec-121\n",
      "ERROR: not full rec-144\n",
      "ERROR: not full rec-188\n",
      "ERROR: not full rec-84\n",
      "ERROR: not full rec-113\n",
      "ERROR: not full rec-104\n",
      "ERROR: not full rec-172\n",
      "ERROR: not full rec-97\n",
      "ERROR: not full rec-49\n",
      "ERROR: not full rec-129\n",
      "ERROR: not full rec-142\n",
      "ERROR: not full rec-179\n",
      "ERROR: not full rec-51\n",
      "ERROR: not found rec-66\n",
      "ERROR: not full rec-158\n",
      "ERROR: not full rec-61\n",
      "ERROR: not full rec-80\n",
      "ERROR: not full rec-147\n",
      "ERROR: not full rec-48\n",
      "ERROR: not full rec-62\n",
      "ERROR: not found rec-143\n",
      "ERROR: not full rec-148\n"
     ]
    }
   ],
   "source": [
    "for key in expected_res:\n",
    "  if key not in res_by_ids:\n",
    "    if len(expected_res[key]) > 1:\n",
    "      print(f'ERROR: not found {key}')\n",
    "      fn += len(expected_res[key])\n",
    "    continue\n",
    "  if len(expected_res[key]) != len(res_by_ids[key]):\n",
    "    print(f'ERROR: not full {key}')\n",
    "  fn += len(expected_res[key]) - len(res_by_ids[key])\n",
    "  tp += len(res_by_ids[key])\n",
    "  # print(f'OK: {key}')\n",
    "  # break"
   ]
  },
  {
   "cell_type": "code",
   "execution_count": 134,
   "metadata": {},
   "outputs": [
    {
     "name": "stdout",
     "output_type": "stream",
     "text": [
      "tp: 500, fp: 0, fn: 31\n",
      "precision: 1.0\n",
      "recall: 0.9416195856873822\n",
      "f1: 0.9699321047526672\n"
     ]
    }
   ],
   "source": [
    "print(f'tp: {tp}, fp: {fp}, fn: {fn}')\n",
    "precision = tp / (tp + fp)\n",
    "recall = tp / (tp + fn)\n",
    "print(f'precision: {precision}')\n",
    "print(f'recall: {recall}')\n",
    "print(f'f1: {2 * precision * recall / (precision + recall)}')"
   ]
  },
  {
   "cell_type": "code",
   "execution_count": 154,
   "metadata": {},
   "outputs": [],
   "source": [
    "def test_distances(data: List[Dict[Hashable, Any]], expected_res: Dict[str, Set[str]], similarity: Callable[[Dict[Hashable, Any], Dict[Hashable, Any]], float],threshold: float = 0.85) -> Tuple[int, int, int]:\n",
    "  tp = 0\n",
    "  fp = 0\n",
    "  fn = 0\n",
    "  res = []\n",
    "  for i in range(len(data)):\n",
    "    for j in range(i + 1, len(data)):\n",
    "      sim = similarity(data[i], data[j])\n",
    "      if sim > threshold:\n",
    "        res.append((data[i]['rec_id'], data[j]['rec_id'], sim))\n",
    "  res_by_ids = {}\n",
    "  for (a_id, b_id, sim) in res:\n",
    "    a_key = get_key(a_id)\n",
    "    b_key = get_key(b_id)\n",
    "    if a_key != b_key:\n",
    "      print(f'ERROR: {a_id}, {b_id}, {sim}')\n",
    "      fp += 1\n",
    "      continue\n",
    "    if a_key not in res_by_ids:\n",
    "      res_by_ids[a_key] = set()\n",
    "    res_by_ids[a_key].add(a_id)\n",
    "    res_by_ids[a_key].add(b_id)\n",
    "  for key in expected_res:\n",
    "    if key not in res_by_ids:\n",
    "      if len(expected_res[key]) > 1:\n",
    "        print(f'ERROR: not found {key}')\n",
    "        fn += len(expected_res[key])\n",
    "      continue\n",
    "    if len(expected_res[key]) != len(res_by_ids[key]):\n",
    "      print(f'ERROR: not full {key}')\n",
    "    fn += len(expected_res[key]) - len(res_by_ids[key])\n",
    "    tp += len(res_by_ids[key])\n",
    "  return tp, fp, fn"
   ]
  },
  {
   "cell_type": "code",
   "execution_count": 155,
   "metadata": {},
   "outputs": [
    {
     "name": "stdout",
     "output_type": "stream",
     "text": [
      "ERROR: not full rec-128\n",
      "ERROR: not full rec-74\n",
      "ERROR: not full rec-199\n",
      "ERROR: not full rec-167\n",
      "ERROR: not full rec-112\n",
      "ERROR: not full rec-121\n",
      "ERROR: not full rec-144\n",
      "ERROR: not full rec-188\n",
      "ERROR: not full rec-84\n",
      "ERROR: not full rec-113\n",
      "ERROR: not full rec-104\n",
      "ERROR: not full rec-172\n",
      "ERROR: not full rec-97\n",
      "ERROR: not full rec-49\n",
      "ERROR: not full rec-129\n",
      "ERROR: not full rec-142\n",
      "ERROR: not full rec-179\n",
      "ERROR: not full rec-51\n",
      "ERROR: not found rec-66\n",
      "ERROR: not full rec-158\n",
      "ERROR: not full rec-61\n",
      "ERROR: not full rec-80\n",
      "ERROR: not full rec-147\n",
      "ERROR: not full rec-48\n",
      "ERROR: not full rec-62\n",
      "ERROR: not found rec-143\n",
      "ERROR: not full rec-148\n"
     ]
    }
   ],
   "source": [
    "(tp, fp, fn) = test_distances(data_list, expected_res, get_lev_sim)"
   ]
  },
  {
   "cell_type": "code",
   "execution_count": 156,
   "metadata": {},
   "outputs": [
    {
     "name": "stdout",
     "output_type": "stream",
     "text": [
      "precision: 1.0\n",
      "recall: 0.9416195856873822\n",
      "f1: 0.9699321047526672\n"
     ]
    }
   ],
   "source": [
    "precision = tp / (tp + fp)\n",
    "recall = tp / (tp + fn)\n",
    "print(f'precision: {precision}')\n",
    "print(f'recall: {recall}')\n",
    "print(f'f1: {2 * precision * recall / (precision + recall)}')"
   ]
  }
 ],
 "metadata": {
  "kernelspec": {
   "display_name": "Python 3",
   "language": "python",
   "name": "python3"
  },
  "language_info": {
   "codemirror_mode": {
    "name": "ipython",
    "version": 3
   },
   "file_extension": ".py",
   "mimetype": "text/x-python",
   "name": "python",
   "nbconvert_exporter": "python",
   "pygments_lexer": "ipython3",
   "version": "3.8.10"
  },
  "orig_nbformat": 4
 },
 "nbformat": 4,
 "nbformat_minor": 2
}
